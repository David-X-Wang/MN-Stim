{
 "cells": [
  {
   "cell_type": "code",
   "execution_count": 1,
   "metadata": {},
   "outputs": [],
   "source": [
    "import sys\n",
    "import h5py\n",
    "import numpy as np\n",
    "import scipy.io as sio\n",
    "from os import path as ospath\n",
    "import json\n",
    "import os"
   ]
  },
  {
   "cell_type": "code",
   "execution_count": 7,
   "metadata": {},
   "outputs": [
    {
     "name": "stdout",
     "output_type": "stream",
     "text": [
      "converted electrode NS6_001_clean.mat\n",
      "converted electrode NS6_002_clean.mat\n",
      "converted electrode NS6_003_clean.mat\n",
      "converted electrode NS6_004_clean.mat\n",
      "converted electrode NS6_005_clean.mat\n",
      "converted electrode NS6_006_clean.mat\n",
      "converted electrode NS6_007_clean.mat\n",
      "converted electrode NS6_008_clean.mat\n"
     ]
    }
   ],
   "source": [
    "pranish_data = '/project/TIBIR/Legzshared/lega_ansir/Pranish_initial_sort/UT238/sorted/3_11_21_AR_Micro_2/RawDir/clean_20210317'\n",
    "\n",
    "for root, dirs, files in os.walk(pranish_data):\n",
    "    for f in files: \n",
    "        if f[-4:]=='.mat':\n",
    "            data = sio.loadmat(os.path.join(root, f))\n",
    "            hf = h5py.File(f'{os.path.join(root, f[:-4])}.hdf5', \"w\")\n",
    "            hf.create_dataset('data', data=data['data'][0,:], dtype='<i2')\n",
    "            hf.close()\n",
    "            print(f'converted electrode {f}')"
   ]
  },
  {
   "cell_type": "code",
   "execution_count": null,
   "metadata": {},
   "outputs": [],
   "source": []
  }
 ],
 "metadata": {
  "kernelspec": {
   "display_name": "Python 3",
   "language": "python",
   "name": "python3"
  },
  "language_info": {
   "codemirror_mode": {
    "name": "ipython",
    "version": 3
   },
   "file_extension": ".py",
   "mimetype": "text/x-python",
   "name": "python",
   "nbconvert_exporter": "python",
   "pygments_lexer": "ipython3",
   "version": "3.6.1"
  }
 },
 "nbformat": 4,
 "nbformat_minor": 4
}
