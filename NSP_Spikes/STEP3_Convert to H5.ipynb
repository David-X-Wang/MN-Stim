{
 "cells": [
  {
   "cell_type": "code",
   "execution_count": 9,
   "metadata": {},
   "outputs": [],
   "source": [
    "import sys\n",
    "import h5py\n",
    "import numpy as np\n",
    "import scipy.io as sio\n",
    "from os import path as ospath\n",
    "import json\n",
    "import os"
   ]
  },
  {
   "cell_type": "code",
   "execution_count": 10,
   "metadata": {},
   "outputs": [
    {
     "name": "stdout",
     "output_type": "stream",
     "text": [
      "converted electrode NS6_006_startTimeInMin000.mat\n",
      "converted electrode NS6_007_startTimeInMin000.mat\n",
      "converted electrode NS6_001_startTimeInMin000.mat\n",
      "converted electrode NS6_004_startTimeInMin000.mat\n",
      "converted electrode NS6_002_startTimeInMin000.mat\n",
      "converted electrode NS6_005_startTimeInMin000.mat\n",
      "converted electrode NS6_003_startTimeInMin000.mat\n",
      "converted electrode NS6_008_startTimeInMin000.mat\n"
     ]
    }
   ],
   "source": [
    "pranish_data = '/project/TIBIR/Lega_lab/s427026/UT255/sorted/session_1/RawDir/clean_8MinSegments_20210715'\n",
    "\n",
    "for root, dirs, files in os.walk(pranish_data):\n",
    "    for f in files: \n",
    "        if f[-4:]=='.mat':\n",
    "            data = sio.loadmat(os.path.join(root, f))\n",
    "            hf = h5py.File(f'{os.path.join(root, f[:-4])}.hdf5', \"w\")\n",
    "            hf.create_dataset('data', data=data['data'][0,:], dtype='<i2')\n",
    "            hf.close()\n",
    "            print(f'converted electrode {f}')"
   ]
  },
  {
   "cell_type": "code",
   "execution_count": null,
   "metadata": {},
   "outputs": [],
   "source": []
  }
 ],
 "metadata": {
  "kernelspec": {
   "display_name": "Python 3",
   "language": "python",
   "name": "python3"
  },
  "language_info": {
   "codemirror_mode": {
    "name": "ipython",
    "version": 3
   },
   "file_extension": ".py",
   "mimetype": "text/x-python",
   "name": "python",
   "nbconvert_exporter": "python",
   "pygments_lexer": "ipython3",
   "version": "3.6.1"
  }
 },
 "nbformat": 4,
 "nbformat_minor": 4
}
